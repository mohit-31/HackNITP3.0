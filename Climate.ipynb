{
  "nbformat": 4,
  "nbformat_minor": 0,
  "metadata": {
    "colab": {
      "name": "Climate.ipynb",
      "provenance": [],
      "authorship_tag": "ABX9TyPVFfuHrEtCaRoQyLlNonrk",
      "include_colab_link": true
    },
    "kernelspec": {
      "name": "python3",
      "display_name": "Python 3"
    }
  },
  "cells": [
    {
      "cell_type": "markdown",
      "metadata": {
        "id": "view-in-github",
        "colab_type": "text"
      },
      "source": [
        "<a href=\"https://colab.research.google.com/github/mohit-31/HackNITP3.0/blob/main/Climate.ipynb\" target=\"_parent\"><img src=\"https://colab.research.google.com/assets/colab-badge.svg\" alt=\"Open In Colab\"/></a>"
      ]
    },
    {
      "cell_type": "code",
      "metadata": {
        "id": "qDWT8tn_w6-0"
      },
      "source": [
        "import pandas as pd\r\n",
        "import numpy as np\r\n",
        "import matplotlib.pyplot as plt\r\n",
        "import seaborn as sns\r\n"
      ],
      "execution_count": 1,
      "outputs": []
    },
    {
      "cell_type": "code",
      "metadata": {
        "id": "1r86sH9QxKLu"
      },
      "source": [
        "df=pd.read_csv('filename.csv')\r\n",
        "df=df[['temp(cel)','mean_windspeed(km/hr)','re_hum(%)','cloud(okta)','rain(mm)','avg._no._rainyday','district','month_index']]"
      ],
      "execution_count": 2,
      "outputs": []
    },
    {
      "cell_type": "code",
      "metadata": {
        "colab": {
          "base_uri": "https://localhost:8080/"
        },
        "id": "wn6BkoERx6oN",
        "outputId": "12d7218d-7c90-4a99-e52c-0057b890ec42"
      },
      "source": [
        "df['district'].unique()"
      ],
      "execution_count": 3,
      "outputs": [
        {
          "output_type": "execute_result",
          "data": {
            "text/plain": [
              "array(['Bhagalpur', 'chapra', 'Darbhanga', 'Dehri', 'Forbesganj', 'Gaya',\n",
              "       'jamui', 'Motihari', 'Muzaffarpur', 'patna', 'Purnea', 'Raxaul',\n",
              "       'Sabour', 'Supaul'], dtype=object)"
            ]
          },
          "metadata": {
            "tags": []
          },
          "execution_count": 3
        }
      ]
    },
    {
      "cell_type": "code",
      "metadata": {
        "id": "_dpMahDdyobb"
      },
      "source": [
        "from sklearn import preprocessing\r\n",
        "lb = preprocessing.LabelEncoder()\r\n",
        "df['district']=lb.fit_transform(df['district'])"
      ],
      "execution_count": 4,
      "outputs": []
    },
    {
      "cell_type": "code",
      "metadata": {
        "colab": {
          "base_uri": "https://localhost:8080/"
        },
        "id": "vuUVaCC9zB9-",
        "outputId": "83c04ccd-a388-47c5-9d16-fd59a18e980d"
      },
      "source": [
        "df['district'].unique()"
      ],
      "execution_count": 5,
      "outputs": [
        {
          "output_type": "execute_result",
          "data": {
            "text/plain": [
              "array([ 0, 11,  1,  2,  3,  4, 12,  5,  6, 13,  7,  8,  9, 10])"
            ]
          },
          "metadata": {
            "tags": []
          },
          "execution_count": 5
        }
      ]
    },
    {
      "cell_type": "code",
      "metadata": {
        "colab": {
          "base_uri": "https://localhost:8080/",
          "height": 402
        },
        "id": "gSGAs3UEzE60",
        "outputId": "c4a950e5-7cdd-4287-9f3e-7569c1672c45"
      },
      "source": [
        "df"
      ],
      "execution_count": 6,
      "outputs": [
        {
          "output_type": "execute_result",
          "data": {
            "text/html": [
              "<div>\n",
              "<style scoped>\n",
              "    .dataframe tbody tr th:only-of-type {\n",
              "        vertical-align: middle;\n",
              "    }\n",
              "\n",
              "    .dataframe tbody tr th {\n",
              "        vertical-align: top;\n",
              "    }\n",
              "\n",
              "    .dataframe thead th {\n",
              "        text-align: right;\n",
              "    }\n",
              "</style>\n",
              "<table border=\"1\" class=\"dataframe\">\n",
              "  <thead>\n",
              "    <tr style=\"text-align: right;\">\n",
              "      <th></th>\n",
              "      <th>temp(cel)</th>\n",
              "      <th>mean_windspeed(km/hr)</th>\n",
              "      <th>re_hum(%)</th>\n",
              "      <th>cloud(okta)</th>\n",
              "      <th>rain(mm)</th>\n",
              "      <th>avg._no._rainyday</th>\n",
              "      <th>district</th>\n",
              "      <th>month_index</th>\n",
              "    </tr>\n",
              "  </thead>\n",
              "  <tbody>\n",
              "    <tr>\n",
              "      <th>0</th>\n",
              "      <td>12.571663</td>\n",
              "      <td>4.861222</td>\n",
              "      <td>77.267091</td>\n",
              "      <td>1.525148</td>\n",
              "      <td>14.375759</td>\n",
              "      <td>0.9</td>\n",
              "      <td>0</td>\n",
              "      <td>1</td>\n",
              "    </tr>\n",
              "    <tr>\n",
              "      <th>1</th>\n",
              "      <td>16.876908</td>\n",
              "      <td>4.658724</td>\n",
              "      <td>76.001416</td>\n",
              "      <td>1.749436</td>\n",
              "      <td>13.976031</td>\n",
              "      <td>0.9</td>\n",
              "      <td>0</td>\n",
              "      <td>1</td>\n",
              "    </tr>\n",
              "    <tr>\n",
              "      <th>2</th>\n",
              "      <td>15.775776</td>\n",
              "      <td>3.505728</td>\n",
              "      <td>79.321824</td>\n",
              "      <td>1.713624</td>\n",
              "      <td>12.331613</td>\n",
              "      <td>0.9</td>\n",
              "      <td>0</td>\n",
              "      <td>1</td>\n",
              "    </tr>\n",
              "    <tr>\n",
              "      <th>3</th>\n",
              "      <td>12.903226</td>\n",
              "      <td>3.196545</td>\n",
              "      <td>79.323649</td>\n",
              "      <td>1.591761</td>\n",
              "      <td>12.337610</td>\n",
              "      <td>0.9</td>\n",
              "      <td>0</td>\n",
              "      <td>1</td>\n",
              "    </tr>\n",
              "    <tr>\n",
              "      <th>4</th>\n",
              "      <td>16.829754</td>\n",
              "      <td>4.926399</td>\n",
              "      <td>78.572965</td>\n",
              "      <td>1.469696</td>\n",
              "      <td>12.780349</td>\n",
              "      <td>0.9</td>\n",
              "      <td>0</td>\n",
              "      <td>1</td>\n",
              "    </tr>\n",
              "    <tr>\n",
              "      <th>...</th>\n",
              "      <td>...</td>\n",
              "      <td>...</td>\n",
              "      <td>...</td>\n",
              "      <td>...</td>\n",
              "      <td>...</td>\n",
              "      <td>...</td>\n",
              "      <td>...</td>\n",
              "      <td>...</td>\n",
              "    </tr>\n",
              "    <tr>\n",
              "      <th>5105</th>\n",
              "      <td>22.921990</td>\n",
              "      <td>1.056778</td>\n",
              "      <td>86.740943</td>\n",
              "      <td>0.523402</td>\n",
              "      <td>2.164579</td>\n",
              "      <td>0.4</td>\n",
              "      <td>10</td>\n",
              "      <td>12</td>\n",
              "    </tr>\n",
              "    <tr>\n",
              "      <th>5106</th>\n",
              "      <td>22.700828</td>\n",
              "      <td>1.516224</td>\n",
              "      <td>83.216797</td>\n",
              "      <td>0.600504</td>\n",
              "      <td>5.536653</td>\n",
              "      <td>0.4</td>\n",
              "      <td>10</td>\n",
              "      <td>12</td>\n",
              "    </tr>\n",
              "    <tr>\n",
              "      <th>5107</th>\n",
              "      <td>17.960705</td>\n",
              "      <td>2.402960</td>\n",
              "      <td>84.923203</td>\n",
              "      <td>0.599858</td>\n",
              "      <td>4.497545</td>\n",
              "      <td>0.4</td>\n",
              "      <td>10</td>\n",
              "      <td>12</td>\n",
              "    </tr>\n",
              "    <tr>\n",
              "      <th>5108</th>\n",
              "      <td>25.074912</td>\n",
              "      <td>0.815435</td>\n",
              "      <td>85.353020</td>\n",
              "      <td>0.590177</td>\n",
              "      <td>3.974889</td>\n",
              "      <td>0.4</td>\n",
              "      <td>10</td>\n",
              "      <td>12</td>\n",
              "    </tr>\n",
              "    <tr>\n",
              "      <th>5109</th>\n",
              "      <td>23.879991</td>\n",
              "      <td>1.563365</td>\n",
              "      <td>86.351620</td>\n",
              "      <td>0.765416</td>\n",
              "      <td>3.283006</td>\n",
              "      <td>0.4</td>\n",
              "      <td>10</td>\n",
              "      <td>12</td>\n",
              "    </tr>\n",
              "  </tbody>\n",
              "</table>\n",
              "<p>5110 rows × 8 columns</p>\n",
              "</div>"
            ],
            "text/plain": [
              "      temp(cel)  mean_windspeed(km/hr)  ...  district  month_index\n",
              "0     12.571663               4.861222  ...         0            1\n",
              "1     16.876908               4.658724  ...         0            1\n",
              "2     15.775776               3.505728  ...         0            1\n",
              "3     12.903226               3.196545  ...         0            1\n",
              "4     16.829754               4.926399  ...         0            1\n",
              "...         ...                    ...  ...       ...          ...\n",
              "5105  22.921990               1.056778  ...        10           12\n",
              "5106  22.700828               1.516224  ...        10           12\n",
              "5107  17.960705               2.402960  ...        10           12\n",
              "5108  25.074912               0.815435  ...        10           12\n",
              "5109  23.879991               1.563365  ...        10           12\n",
              "\n",
              "[5110 rows x 8 columns]"
            ]
          },
          "metadata": {
            "tags": []
          },
          "execution_count": 6
        }
      ]
    },
    {
      "cell_type": "code",
      "metadata": {
        "colab": {
          "base_uri": "https://localhost:8080/",
          "height": 402
        },
        "id": "9TY94zLy4Ao1",
        "outputId": "ed7e351d-5ecf-4276-c0f1-8c94ea34b9ad"
      },
      "source": [
        "df = df.sample(frac = 1) \r\n",
        "df"
      ],
      "execution_count": 7,
      "outputs": [
        {
          "output_type": "execute_result",
          "data": {
            "text/html": [
              "<div>\n",
              "<style scoped>\n",
              "    .dataframe tbody tr th:only-of-type {\n",
              "        vertical-align: middle;\n",
              "    }\n",
              "\n",
              "    .dataframe tbody tr th {\n",
              "        vertical-align: top;\n",
              "    }\n",
              "\n",
              "    .dataframe thead th {\n",
              "        text-align: right;\n",
              "    }\n",
              "</style>\n",
              "<table border=\"1\" class=\"dataframe\">\n",
              "  <thead>\n",
              "    <tr style=\"text-align: right;\">\n",
              "      <th></th>\n",
              "      <th>temp(cel)</th>\n",
              "      <th>mean_windspeed(km/hr)</th>\n",
              "      <th>re_hum(%)</th>\n",
              "      <th>cloud(okta)</th>\n",
              "      <th>rain(mm)</th>\n",
              "      <th>avg._no._rainyday</th>\n",
              "      <th>district</th>\n",
              "      <th>month_index</th>\n",
              "    </tr>\n",
              "  </thead>\n",
              "  <tbody>\n",
              "    <tr>\n",
              "      <th>2810</th>\n",
              "      <td>30.777883</td>\n",
              "      <td>5.247614</td>\n",
              "      <td>84.989842</td>\n",
              "      <td>6.490830</td>\n",
              "      <td>324.330119</td>\n",
              "      <td>12.8</td>\n",
              "      <td>6</td>\n",
              "      <td>7</td>\n",
              "    </tr>\n",
              "    <tr>\n",
              "      <th>316</th>\n",
              "      <td>15.809439</td>\n",
              "      <td>3.138271</td>\n",
              "      <td>78.215229</td>\n",
              "      <td>1.448087</td>\n",
              "      <td>9.214586</td>\n",
              "      <td>0.7</td>\n",
              "      <td>7</td>\n",
              "      <td>1</td>\n",
              "    </tr>\n",
              "    <tr>\n",
              "      <th>202</th>\n",
              "      <td>19.374440</td>\n",
              "      <td>3.107292</td>\n",
              "      <td>79.872944</td>\n",
              "      <td>0.693097</td>\n",
              "      <td>12.571135</td>\n",
              "      <td>0.9</td>\n",
              "      <td>12</td>\n",
              "      <td>1</td>\n",
              "    </tr>\n",
              "    <tr>\n",
              "      <th>645</th>\n",
              "      <td>20.809702</td>\n",
              "      <td>3.489485</td>\n",
              "      <td>71.472429</td>\n",
              "      <td>1.109230</td>\n",
              "      <td>11.417148</td>\n",
              "      <td>1.1</td>\n",
              "      <td>5</td>\n",
              "      <td>2</td>\n",
              "    </tr>\n",
              "    <tr>\n",
              "      <th>2153</th>\n",
              "      <td>28.494774</td>\n",
              "      <td>7.561851</td>\n",
              "      <td>72.987087</td>\n",
              "      <td>3.850474</td>\n",
              "      <td>122.169274</td>\n",
              "      <td>6.0</td>\n",
              "      <td>11</td>\n",
              "      <td>6</td>\n",
              "    </tr>\n",
              "    <tr>\n",
              "      <th>...</th>\n",
              "      <td>...</td>\n",
              "      <td>...</td>\n",
              "      <td>...</td>\n",
              "      <td>...</td>\n",
              "      <td>...</td>\n",
              "      <td>...</td>\n",
              "      <td>...</td>\n",
              "      <td>...</td>\n",
              "    </tr>\n",
              "    <tr>\n",
              "      <th>4223</th>\n",
              "      <td>29.253810</td>\n",
              "      <td>3.676227</td>\n",
              "      <td>81.136838</td>\n",
              "      <td>2.632943</td>\n",
              "      <td>71.111147</td>\n",
              "      <td>4.0</td>\n",
              "      <td>9</td>\n",
              "      <td>10</td>\n",
              "    </tr>\n",
              "    <tr>\n",
              "      <th>4376</th>\n",
              "      <td>22.267920</td>\n",
              "      <td>3.369794</td>\n",
              "      <td>76.612637</td>\n",
              "      <td>1.056184</td>\n",
              "      <td>4.026521</td>\n",
              "      <td>0.3</td>\n",
              "      <td>3</td>\n",
              "      <td>11</td>\n",
              "    </tr>\n",
              "    <tr>\n",
              "      <th>3090</th>\n",
              "      <td>28.669500</td>\n",
              "      <td>3.878296</td>\n",
              "      <td>81.643784</td>\n",
              "      <td>6.038731</td>\n",
              "      <td>263.893410</td>\n",
              "      <td>14.0</td>\n",
              "      <td>2</td>\n",
              "      <td>8</td>\n",
              "    </tr>\n",
              "    <tr>\n",
              "      <th>3521</th>\n",
              "      <td>30.867021</td>\n",
              "      <td>3.455907</td>\n",
              "      <td>79.826189</td>\n",
              "      <td>4.549455</td>\n",
              "      <td>210.786580</td>\n",
              "      <td>9.5</td>\n",
              "      <td>2</td>\n",
              "      <td>9</td>\n",
              "    </tr>\n",
              "    <tr>\n",
              "      <th>4210</th>\n",
              "      <td>29.859666</td>\n",
              "      <td>2.955436</td>\n",
              "      <td>78.679797</td>\n",
              "      <td>2.523447</td>\n",
              "      <td>70.249730</td>\n",
              "      <td>4.0</td>\n",
              "      <td>9</td>\n",
              "      <td>10</td>\n",
              "    </tr>\n",
              "  </tbody>\n",
              "</table>\n",
              "<p>5110 rows × 8 columns</p>\n",
              "</div>"
            ],
            "text/plain": [
              "      temp(cel)  mean_windspeed(km/hr)  ...  district  month_index\n",
              "2810  30.777883               5.247614  ...         6            7\n",
              "316   15.809439               3.138271  ...         7            1\n",
              "202   19.374440               3.107292  ...        12            1\n",
              "645   20.809702               3.489485  ...         5            2\n",
              "2153  28.494774               7.561851  ...        11            6\n",
              "...         ...                    ...  ...       ...          ...\n",
              "4223  29.253810               3.676227  ...         9           10\n",
              "4376  22.267920               3.369794  ...         3           11\n",
              "3090  28.669500               3.878296  ...         2            8\n",
              "3521  30.867021               3.455907  ...         2            9\n",
              "4210  29.859666               2.955436  ...         9           10\n",
              "\n",
              "[5110 rows x 8 columns]"
            ]
          },
          "metadata": {
            "tags": []
          },
          "execution_count": 7
        }
      ]
    },
    {
      "cell_type": "code",
      "metadata": {
        "id": "pqjBfy_-5P7G"
      },
      "source": [
        "X=df[['temp(cel)','mean_windspeed(km/hr)','re_hum(%)','cloud(okta)','rain(mm)','avg._no._rainyday']]\r\n",
        "y1=df[['district']]\r\n",
        "y2=df[['month_index']]"
      ],
      "execution_count": 8,
      "outputs": []
    },
    {
      "cell_type": "code",
      "metadata": {
        "colab": {
          "base_uri": "https://localhost:8080/"
        },
        "id": "MX57LhuR_UvO",
        "outputId": "57dbc372-2dc9-4d9c-9475-f04d6a42286b"
      },
      "source": [
        "X1=X.iloc[:,:-1].values \r\n",
        "X1.shape\r\n",
        "X.shape\r\n",
        "y1.shape"
      ],
      "execution_count": 9,
      "outputs": [
        {
          "output_type": "execute_result",
          "data": {
            "text/plain": [
              "(5110, 1)"
            ]
          },
          "metadata": {
            "tags": []
          },
          "execution_count": 9
        }
      ]
    },
    {
      "cell_type": "code",
      "metadata": {
        "colab": {
          "base_uri": "https://localhost:8080/"
        },
        "id": "tUvRcQQR_Kia",
        "outputId": "28f5fd2c-6781-4211-fde1-52d2f6d937c7"
      },
      "source": [
        "\r\n",
        "y12=df['district'].values\r\n",
        "y12.size"
      ],
      "execution_count": 10,
      "outputs": [
        {
          "output_type": "execute_result",
          "data": {
            "text/plain": [
              "5110"
            ]
          },
          "metadata": {
            "tags": []
          },
          "execution_count": 10
        }
      ]
    },
    {
      "cell_type": "code",
      "metadata": {
        "colab": {
          "base_uri": "https://localhost:8080/",
          "height": 729
        },
        "id": "qAVcxBbiRWan",
        "outputId": "f67b8ada-e21b-4dd7-d877-cc94af9195f0"
      },
      "source": [
        "# X=df[['temp(cel)','mean_windspeed(km/hr)','re_hum(%)','cloud(okta)','rain(mm)','avg._no._rainyday']]\r\n",
        "\r\n",
        "sns.jointplot(x='cloud(okta)',y='district',data=df,kind='reg',height=10)\r\n",
        "plt.show();"
      ],
      "execution_count": 11,
      "outputs": [
        {
          "output_type": "display_data",
          "data": {
            "image/png": "[encoded data removed]",
            "text/plain": [
              "<Figure size 720x720 with 3 Axes>"
            ]
          },
          "metadata": {
            "tags": [],
            "needs_background": "light"
          }
        }
      ]
    },
    {
      "cell_type": "code",
      "metadata": {
        "id": "04i9rKGpRyc9",
        "colab": {
          "base_uri": "https://localhost:8080/",
          "height": 225
        },
        "outputId": "fec00c74-7b21-4a69-c0ec-ade781530fb4"
      },
      "source": [
        "corr_matrix=X.corr()\r\n",
        "pd.options.display.float_format='{:,.2f}'.format\r\n",
        "corr_matrix"
      ],
      "execution_count": 12,
      "outputs": [
        {
          "output_type": "execute_result",
          "data": {
            "text/html": [
              "<div>\n",
              "<style scoped>\n",
              "    .dataframe tbody tr th:only-of-type {\n",
              "        vertical-align: middle;\n",
              "    }\n",
              "\n",
              "    .dataframe tbody tr th {\n",
              "        vertical-align: top;\n",
              "    }\n",
              "\n",
              "    .dataframe thead th {\n",
              "        text-align: right;\n",
              "    }\n",
              "</style>\n",
              "<table border=\"1\" class=\"dataframe\">\n",
              "  <thead>\n",
              "    <tr style=\"text-align: right;\">\n",
              "      <th></th>\n",
              "      <th>temp(cel)</th>\n",
              "      <th>mean_windspeed(km/hr)</th>\n",
              "      <th>re_hum(%)</th>\n",
              "      <th>cloud(okta)</th>\n",
              "      <th>rain(mm)</th>\n",
              "      <th>avg._no._rainyday</th>\n",
              "    </tr>\n",
              "  </thead>\n",
              "  <tbody>\n",
              "    <tr>\n",
              "      <th>temp(cel)</th>\n",
              "      <td>1.00</td>\n",
              "      <td>0.52</td>\n",
              "      <td>-0.02</td>\n",
              "      <td>0.48</td>\n",
              "      <td>0.45</td>\n",
              "      <td>0.47</td>\n",
              "    </tr>\n",
              "    <tr>\n",
              "      <th>mean_windspeed(km/hr)</th>\n",
              "      <td>0.52</td>\n",
              "      <td>1.00</td>\n",
              "      <td>-0.07</td>\n",
              "      <td>0.47</td>\n",
              "      <td>0.39</td>\n",
              "      <td>0.41</td>\n",
              "    </tr>\n",
              "    <tr>\n",
              "      <th>re_hum(%)</th>\n",
              "      <td>-0.02</td>\n",
              "      <td>-0.07</td>\n",
              "      <td>1.00</td>\n",
              "      <td>0.50</td>\n",
              "      <td>0.50</td>\n",
              "      <td>0.49</td>\n",
              "    </tr>\n",
              "    <tr>\n",
              "      <th>cloud(okta)</th>\n",
              "      <td>0.48</td>\n",
              "      <td>0.47</td>\n",
              "      <td>0.50</td>\n",
              "      <td>1.00</td>\n",
              "      <td>0.94</td>\n",
              "      <td>0.96</td>\n",
              "    </tr>\n",
              "    <tr>\n",
              "      <th>rain(mm)</th>\n",
              "      <td>0.45</td>\n",
              "      <td>0.39</td>\n",
              "      <td>0.50</td>\n",
              "      <td>0.94</td>\n",
              "      <td>1.00</td>\n",
              "      <td>0.99</td>\n",
              "    </tr>\n",
              "    <tr>\n",
              "      <th>avg._no._rainyday</th>\n",
              "      <td>0.47</td>\n",
              "      <td>0.41</td>\n",
              "      <td>0.49</td>\n",
              "      <td>0.96</td>\n",
              "      <td>0.99</td>\n",
              "      <td>1.00</td>\n",
              "    </tr>\n",
              "  </tbody>\n",
              "</table>\n",
              "</div>"
            ],
            "text/plain": [
              "                       temp(cel)  ...  avg._no._rainyday\n",
              "temp(cel)                   1.00  ...               0.47\n",
              "mean_windspeed(km/hr)       0.52  ...               0.41\n",
              "re_hum(%)                  -0.02  ...               0.49\n",
              "cloud(okta)                 0.48  ...               0.96\n",
              "rain(mm)                    0.45  ...               0.99\n",
              "avg._no._rainyday           0.47  ...               1.00\n",
              "\n",
              "[6 rows x 6 columns]"
            ]
          },
          "metadata": {
            "tags": []
          },
          "execution_count": 12
        }
      ]
    },
    {
      "cell_type": "code",
      "metadata": {
        "id": "HVAkYzmv5XC_",
        "colab": {
          "base_uri": "https://localhost:8080/",
          "height": 596
        },
        "outputId": "8b0b08c5-e999-44b7-eca6-5940b6de53df"
      },
      "source": [
        "plt.figure(figsize=(16,10 ))\r\n",
        "sns.heatmap(corr_matrix,annot=True,cmap='YlGnBu')\r\n",
        "plt.show()"
      ],
      "execution_count": 13,
      "outputs": [
        {
          "output_type": "display_data",
          "data": {
            "image/png": "[encoded data removed]",
            "text/plain": [
              "<Figure size 1152x720 with 2 Axes>"
            ]
          },
          "metadata": {
            "tags": [],
            "needs_background": "light"
          }
        }
      ]
    },
    {
      "cell_type": "code",
      "metadata": {
        "id": "Q2gOFQM0-Ahw"
      },
      "source": [
        "eignvalues,eignvectors = np.linalg.eig(X.corr())"
      ],
      "execution_count": 14,
      "outputs": []
    },
    {
      "cell_type": "code",
      "metadata": {
        "id": "XnZQIUlI-W26",
        "colab": {
          "base_uri": "https://localhost:8080/"
        },
        "outputId": "9c82ed3f-017e-4c7a-e0e3-b76d141acecd"
      },
      "source": [
        "pd.Series(eignvalues).sort_values()"
      ],
      "execution_count": 15,
      "outputs": [
        {
          "output_type": "execute_result",
          "data": {
            "text/plain": [
              "4   0.01\n",
              "5   0.06\n",
              "3   0.41\n",
              "2   0.48\n",
              "1   1.32\n",
              "0   3.72\n",
              "dtype: float64"
            ]
          },
          "metadata": {
            "tags": []
          },
          "execution_count": 15
        }
      ]
    },
    {
      "cell_type": "code",
      "metadata": {
        "id": "QPMc5ouY-clA"
      },
      "source": [
        "from sklearn import tree\r\n",
        "clf = tree.DecisionTreeClassifier()\r\n",
        "# clf = clf.fit(X,y1)"
      ],
      "execution_count": 16,
      "outputs": []
    },
    {
      "cell_type": "code",
      "metadata": {
        "id": "YxXkJiaNK2kM"
      },
      "source": [
        "# Xv = X.values.reshape(-1,1)\r\n",
        "# # y1=y1.values.reshape(-1,1)\r\n",
        "\r\n",
        "# h=.02\r\n",
        "# x_min,x_max = Xv.min(),Xv.max() + 1\r\n",
        "# y_min,y_max = y1.min(),y1.max() + 1\r\n",
        "# Xv"
      ],
      "execution_count": 17,
      "outputs": []
    },
    {
      "cell_type": "code",
      "metadata": {
        "id": "1Hsl2gBZNAho"
      },
      "source": [
        "from sklearn.model_selection import train_test_split\r\n",
        "X_train,X_test,y_train,y_test = train_test_split(X,y1,test_size=.1,random_state=42)\r\n",
        "clf = clf.fit(X_train,y_train)"
      ],
      "execution_count": 18,
      "outputs": []
    },
    {
      "cell_type": "code",
      "metadata": {
        "id": "iWAFFvFQLzEA",
        "colab": {
          "base_uri": "https://localhost:8080/"
        },
        "outputId": "f404c529-8bdc-465f-f037-daa97f560982"
      },
      "source": [
        "from sklearn.metrics import accuracy_score\r\n",
        "y_pred = clf.predict(X_test)\r\n",
        "accuracy_score(y_test,y_pred)"
      ],
      "execution_count": 19,
      "outputs": [
        {
          "output_type": "execute_result",
          "data": {
            "text/plain": [
              "0.9412915851272016"
            ]
          },
          "metadata": {
            "tags": []
          },
          "execution_count": 19
        }
      ]
    },
    {
      "cell_type": "code",
      "metadata": {
        "id": "2wmXiXccdx4w",
        "colab": {
          "base_uri": "https://localhost:8080/"
        },
        "outputId": "31280f41-4a4e-4425-fae7-10902efb1bc5"
      },
      "source": [
        "import joblib as jb\r\n",
        "jb.dump(clf,\"filer.csv\")\r\n"
      ],
      "execution_count": 20,
      "outputs": [
        {
          "output_type": "execute_result",
          "data": {
            "text/plain": [
              "['filer.csv']"
            ]
          },
          "metadata": {
            "tags": []
          },
          "execution_count": 20
        }
      ]
    },
    {
      "cell_type": "code",
      "metadata": {
        "id": "Mbb_gJcsY-0l",
        "colab": {
          "base_uri": "https://localhost:8080/"
        },
        "outputId": "4674f68f-a218-403f-8acc-9ad241578e23"
      },
      "source": [
        "# 'temp(cel)','mean_windspeed(km/hr)','re_hum(%)','cloud(okta)','rain(mm)','avg._no._rainyday']]\r\n",
        "# y1=df[['district']]\r\n",
        "Xm=[[22.42,\t1.22,\t808.81,\t1.06,\t7.16,\t0.80]]\r\n",
        "t=clf.predict(Xm)\r\n",
        "t"
      ],
      "execution_count": 21,
      "outputs": [
        {
          "output_type": "execute_result",
          "data": {
            "text/plain": [
              "array([10])"
            ]
          },
          "metadata": {
            "tags": []
          },
          "execution_count": 21
        }
      ]
    },
    {
      "cell_type": "code",
      "metadata": {
        "id": "Jle2yd4AbFbn",
        "colab": {
          "base_uri": "https://localhost:8080/"
        },
        "outputId": "2235b4ba-ce5e-4fa0-a2ca-2d74008364f8"
      },
      "source": [
        "clf=jb.load(\"filer.csv\")\r\n",
        "xm=[[-0.02,-0.07,10.00\t,010.50,\t10.50,\t10.49\r\n",
        "]]\r\n",
        "k=clf.predict(xm)\r\n",
        "lb.inverse_transform(k)"
      ],
      "execution_count": 22,
      "outputs": [
        {
          "output_type": "execute_result",
          "data": {
            "text/plain": [
              "array(['Dehri'], dtype=object)"
            ]
          },
          "metadata": {
            "tags": []
          },
          "execution_count": 22
        }
      ]
    },
    {
      "cell_type": "code",
      "metadata": {
        "colab": {
          "base_uri": "https://localhost:8080/"
        },
        "id": "-vQPwsVU7CtE",
        "outputId": "a9bdef3f-54dc-4796-cf5b-f67105ed50f1"
      },
      "source": [
        "\r\n",
        "xm=[[-0.02,10.07,100.00\t,.50,\t10.50,\t1.49\r\n",
        "]]\r\n",
        "k=clf.predict(xm)\r\n",
        "lb.inverse_transform(k)"
      ],
      "execution_count": 35,
      "outputs": [
        {
          "output_type": "execute_result",
          "data": {
            "text/plain": [
              "array(['Supaul'], dtype=object)"
            ]
          },
          "metadata": {
            "tags": []
          },
          "execution_count": 35
        }
      ]
    },
    {
      "cell_type": "code",
      "metadata": {
        "colab": {
          "base_uri": "https://localhost:8080/"
        },
        "id": "eQp2fNJR7zKJ",
        "outputId": "431845e9-17f5-489e-9bd3-7b430076a1da"
      },
      "source": [
        "xm=[[10.02,-0.07,100.00\t,.50,\t10.50,\t1.49\r\n",
        "]]\r\n",
        "k=clf.predict(xm)\r\n",
        "lb.inverse_transform(k)"
      ],
      "execution_count": 36,
      "outputs": [
        {
          "output_type": "execute_result",
          "data": {
            "text/plain": [
              "array(['Purnea'], dtype=object)"
            ]
          },
          "metadata": {
            "tags": []
          },
          "execution_count": 36
        }
      ]
    },
    {
      "cell_type": "code",
      "metadata": {
        "colab": {
          "base_uri": "https://localhost:8080/"
        },
        "id": "DvODuuSM8qkC",
        "outputId": "5ce8a078-9796-4935-fdc8-91aefece812a"
      },
      "source": [
        "xm=[[10.02,-0.07,10.00\t,.50,\t10.50,\t1.49\r\n",
        "]]\r\n",
        "k=clf.predict(xm)\r\n",
        "lb.inverse_transform(k)"
      ],
      "execution_count": 37,
      "outputs": [
        {
          "output_type": "execute_result",
          "data": {
            "text/plain": [
              "array(['Motihari'], dtype=object)"
            ]
          },
          "metadata": {
            "tags": []
          },
          "execution_count": 37
        }
      ]
    },
    {
      "cell_type": "code",
      "metadata": {
        "colab": {
          "base_uri": "https://localhost:8080/"
        },
        "id": "KhxphL-V8zn6",
        "outputId": "978cbf27-17c9-410e-bd6f-34fbb4a13d4c"
      },
      "source": [
        "xm=[[10.02,-0.07,100.00\t,10.50,\t10.50,\t1.49\r\n",
        "]]\r\n",
        "k=clf.predict(xm)\r\n",
        "lb.inverse_transform(k)\r\n"
      ],
      "execution_count": 40,
      "outputs": [
        {
          "output_type": "execute_result",
          "data": {
            "text/plain": [
              "array(['Raxaul'], dtype=object)"
            ]
          },
          "metadata": {
            "tags": []
          },
          "execution_count": 40
        }
      ]
    },
    {
      "cell_type": "code",
      "metadata": {
        "id": "Z8kNUZ7J88s3"
      },
      "source": [
        ""
      ],
      "execution_count": null,
      "outputs": []
    }
  ]
}